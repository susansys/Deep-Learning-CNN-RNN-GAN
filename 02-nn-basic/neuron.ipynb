{
 "cells": [
  {
   "cell_type": "code",
   "execution_count": 2,
   "metadata": {},
   "outputs": [
    {
     "name": "stdout",
     "output_type": "stream",
     "text": [
      "['batches.meta', 'data_batch_1', 'data_batch_2', 'data_batch_3', 'data_batch_4', 'data_batch_5', 'readme.html', 'test_batch']\n"
     ]
    }
   ],
   "source": [
    "import tensorflow as tf\n",
    "import os\n",
    "import pickle\n",
    "import numpy as np\n",
    "\n",
    "CIFAR_DIR = \"F:/Muke Projects/Deep Learning CNNRNN/02-nn-basic/cifar-10-batches-py\"\n",
    "print(os.listdir(CIFAR_DIR))"
   ]
  },
  {
   "cell_type": "code",
   "execution_count": 3,
   "metadata": {},
   "outputs": [],
   "source": [
    "def load_data(filename):\n",
    "    \"\"\"read data from data file.\"\"\"\n",
    "    with open(filename, 'rb') as f:\n",
    "        data = pickle.load(f, encoding='bytes')\n",
    "        return data[b'data'], data[b'labels']"
   ]
  },
  {
   "cell_type": "code",
   "execution_count": 4,
   "metadata": {},
   "outputs": [],
   "source": [
    "x = tf.placeholder(tf.float32, [None, 3072])\n",
    "y = tf.placeholder(tf.int64, [None])\n",
    "\n",
    "#(3072, 1)\n",
    "w = tf.get_variable('w', [x.get_shape()[-1], 1], \n",
    "                    initializer = tf.random_normal_initializer(0,1))\n",
    "#(1,)\n",
    "b = tf.get_variable('b', [1], initializer = tf.constant_initializer(0.0))\n",
    "\n",
    "#[None, 3072] * [3072, 1] = [None, 1]\n",
    "y_ = tf.matmul(x, w) + b\n",
    "\n",
    "#[None, 1]\n",
    "p_y_1 = tf.nn.sigmoid(y_)\n",
    "#[None, 1]\n",
    "y_reshaped = tf.reshape(y, (-1, 1))\n",
    "y_reshaped_float = tf.cast(y_reshaped, tf.float32)\n",
    "loss = tf.reduce_mean(tf.square(y_reshaped_float - p_y_1))\n",
    "\n",
    "#bool\n",
    "predict = p_y_1 > 0.5\n",
    "#[1,0,1,1,1,0,0,0]\n",
    "correct_prediction = tf.equal(tf.cast(predict, tf.int64), y_reshaped)\n",
    "accuracy = tf.reduce_mean(tf.cast(correct_prediction, tf.int64))\n",
    "\n",
    "with tf.name_scope('train_op'):\n",
    "    train_op = tf.train.AdamOptimizer(1e-3).minimize(loss)\n"
   ]
  },
  {
   "cell_type": "code",
   "execution_count": null,
   "metadata": {},
   "outputs": [],
   "source": []
  }
 ],
 "metadata": {
  "kernelspec": {
   "display_name": "Python 3",
   "language": "python",
   "name": "python3"
  },
  "language_info": {
   "codemirror_mode": {
    "name": "ipython",
    "version": 3
   },
   "file_extension": ".py",
   "mimetype": "text/x-python",
   "name": "python",
   "nbconvert_exporter": "python",
   "pygments_lexer": "ipython3",
   "version": "3.5.6"
  }
 },
 "nbformat": 4,
 "nbformat_minor": 2
}
